{
 "cells": [
  {
   "cell_type": "code",
   "execution_count": 10,
   "id": "8736ae0c-8e2c-49e4-921c-14a4cb76e973",
   "metadata": {},
   "outputs": [
    {
     "name": "stdout",
     "output_type": "stream",
     "text": [
      "1.0*1.0=1.0\t\n",
      "2.0*1.0=2.0\t2.0*2.0=4.0\t\n",
      "3.0*1.0=3.0\t3.0*2.0=6.0\t3.0*3.0=9.0\t\n",
      "4.0*1.0=4.0\t4.0*2.0=8.0\t4.0*3.0=12.0\t4.0*4.0=16.0\t\n",
      "5.0*1.0=5.0\t5.0*2.0=10.0\t5.0*3.0=15.0\t5.0*4.0=20.0\t5.0*5.0=25.0\t\n",
      "6.0*1.0=6.0\t6.0*2.0=12.0\t6.0*3.0=18.0\t6.0*4.0=24.0\t6.0*5.0=30.0\t6.0*6.0=36.0\t\n",
      "7.0*1.0=7.0\t7.0*2.0=14.0\t7.0*3.0=21.0\t7.0*4.0=28.0\t7.0*5.0=35.0\t7.0*6.0=42.0\t7.0*7.0=49.0\t\n",
      "8.0*1.0=8.0\t8.0*2.0=16.0\t8.0*3.0=24.0\t8.0*4.0=32.0\t8.0*5.0=40.0\t8.0*6.0=48.0\t8.0*7.0=56.0\t8.0*8.0=64.0\t\n",
      "9.0*1.0=9.0\t9.0*2.0=18.0\t9.0*3.0=27.0\t9.0*4.0=36.0\t9.0*5.0=45.0\t9.0*6.0=54.0\t9.0*7.0=63.0\t9.0*8.0=72.0\t9.0*9.0=81.0\t\n"
     ]
    }
   ],
   "source": [
    "for i in range(1,10):\n",
    "    for j in range(1,i+1): \n",
    "        k=i*j\n",
    "        print(\"{:.1f}*{:.1f}={:.1f}\".format(i,j,k),end=\"\\t\")\n",
    "    print()"
   ]
  },
  {
   "cell_type": "code",
   "execution_count": null,
   "id": "728c676d-f969-44e2-a841-c807ec0a8dbc",
   "metadata": {},
   "outputs": [],
   "source": []
  }
 ],
 "metadata": {
  "kernelspec": {
   "display_name": "Python 3 (ipykernel)",
   "language": "python",
   "name": "python3"
  },
  "language_info": {
   "codemirror_mode": {
    "name": "ipython",
    "version": 3
   },
   "file_extension": ".py",
   "mimetype": "text/x-python",
   "name": "python",
   "nbconvert_exporter": "python",
   "pygments_lexer": "ipython3",
   "version": "3.9.12"
  }
 },
 "nbformat": 4,
 "nbformat_minor": 5
}
