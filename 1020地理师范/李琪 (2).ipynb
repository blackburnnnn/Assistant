{
 "cells": [
  {
   "cell_type": "code",
   "execution_count": 43,
   "id": "f1ecae13-7fd6-42b4-b04a-aa336c99e847",
   "metadata": {},
   "outputs": [
    {
     "name": "stdout",
     "output_type": "stream",
     "text": [
      "2\t3\t5\t7\t11\t\n",
      "13\t17\t19\t23\t29\t\n",
      "31\t37\t41\t43\t47\t\n",
      "53\t59\t61\t67\t71\t\n",
      "73\t79\t83\t89\t97\t\n"
     ]
    }
   ],
   "source": [
    "count=0    \n",
    "for i in range(2,101):\n",
    "    for j in range(2,i): \n",
    "        if i%j==0:\n",
    "            break\n",
    "    else:\n",
    "        count+=1\n",
    "        print(i,end=\"\\t\")\n",
    "        if count%5==0:\n",
    "            print(end=\"\\n\")"
   ]
  },
  {
   "cell_type": "code",
   "execution_count": null,
   "id": "b090abef-eadb-4cae-b1b7-8f4a03718660",
   "metadata": {},
   "outputs": [],
   "source": []
  }
 ],
 "metadata": {
  "kernelspec": {
   "display_name": "Python 3 (ipykernel)",
   "language": "python",
   "name": "python3"
  },
  "language_info": {
   "codemirror_mode": {
    "name": "ipython",
    "version": 3
   },
   "file_extension": ".py",
   "mimetype": "text/x-python",
   "name": "python",
   "nbconvert_exporter": "python",
   "pygments_lexer": "ipython3",
   "version": "3.9.12"
  }
 },
 "nbformat": 4,
 "nbformat_minor": 5
}
